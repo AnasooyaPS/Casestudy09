{
 "cells": [
  {
   "cell_type": "markdown",
   "id": "28b661a6",
   "metadata": {},
   "source": [
    "# Case study on Unsupervised Learning\n",
    "Do the following in the wine dataset.\n",
    "1. Read the dataset to the python environment.\n",
    "2. Try out different clustering models in the wine dataset.\n",
    "3. Find the optimum number of clusters in each model and create the model with\n",
    "the optimum number of clusters."
   ]
  },
  {
   "cell_type": "markdown",
   "id": "a8388be2",
   "metadata": {},
   "source": [
    "# 1. Read the dataset to the python environment."
   ]
  },
  {
   "cell_type": "code",
   "execution_count": 1,
   "id": "513bc004",
   "metadata": {},
   "outputs": [],
   "source": [
    "import pandas as pd\n",
    "import numpy as np\n",
    "import matplotlib.pyplot as plt"
   ]
  },
  {
   "cell_type": "code",
   "execution_count": 2,
   "id": "47b1e175",
   "metadata": {},
   "outputs": [],
   "source": [
    "data=pd.read_csv('Wine.csv')"
   ]
  },
  {
   "cell_type": "code",
   "execution_count": 3,
   "id": "b9c1673c",
   "metadata": {},
   "outputs": [
    {
     "data": {
      "text/plain": [
       "Alcohol                 0\n",
       "Malic_Acid              0\n",
       "Ash                     0\n",
       "Ash_Alcanity            0\n",
       "Magnesium               0\n",
       "Total_Phenols           0\n",
       "Flavanoids              0\n",
       "Nonflavanoid_Phenols    0\n",
       "Proanthocyanins         0\n",
       "Color_Intensity         0\n",
       "Hue                     0\n",
       "OD280                   0\n",
       "Proline                 0\n",
       "dtype: int64"
      ]
     },
     "execution_count": 3,
     "metadata": {},
     "output_type": "execute_result"
    }
   ],
   "source": [
    "data.isnull().sum()"
   ]
  },
  {
   "cell_type": "markdown",
   "id": "985b1501",
   "metadata": {},
   "source": [
    "# 2.Try out different clustering models in the wine dataset."
   ]
  },
  {
   "cell_type": "code",
   "execution_count": 4,
   "id": "e96df4a4",
   "metadata": {},
   "outputs": [],
   "source": [
    "#kmeans clustering"
   ]
  },
  {
   "cell_type": "code",
   "execution_count": 5,
   "id": "26fe341f",
   "metadata": {},
   "outputs": [],
   "source": [
    "from sklearn.cluster import KMeans"
   ]
  },
  {
   "cell_type": "code",
   "execution_count": 6,
   "id": "33d38e3e",
   "metadata": {},
   "outputs": [],
   "source": [
    "wcss=[]"
   ]
  },
  {
   "cell_type": "code",
   "execution_count": 7,
   "id": "4cf02a38",
   "metadata": {},
   "outputs": [],
   "source": [
    "df=pd.DataFrame(data)"
   ]
  },
  {
   "cell_type": "code",
   "execution_count": 71,
   "id": "2b88815e",
   "metadata": {},
   "outputs": [],
   "source": [
    "X = data.iloc[:, [1,6]].values"
   ]
  },
  {
   "cell_type": "code",
   "execution_count": 72,
   "id": "dad20eb9",
   "metadata": {},
   "outputs": [
    {
     "data": {
      "text/plain": [
       "array([[1.71, 3.06],\n",
       "       [1.78, 2.76],\n",
       "       [2.36, 3.24],\n",
       "       [1.95, 3.49],\n",
       "       [2.59, 2.69],\n",
       "       [1.76, 3.39],\n",
       "       [1.87, 2.52],\n",
       "       [2.15, 2.51],\n",
       "       [1.64, 2.98],\n",
       "       [1.35, 3.15],\n",
       "       [2.16, 3.32],\n",
       "       [1.48, 2.43],\n",
       "       [1.73, 2.76],\n",
       "       [1.73, 3.69],\n",
       "       [1.87, 3.64],\n",
       "       [1.81, 2.91],\n",
       "       [1.92, 3.14],\n",
       "       [1.57, 3.4 ],\n",
       "       [1.59, 3.93],\n",
       "       [3.1 , 3.03],\n",
       "       [1.63, 3.17],\n",
       "       [3.8 , 2.41],\n",
       "       [1.86, 2.88],\n",
       "       [1.6 , 2.37],\n",
       "       [1.81, 2.61],\n",
       "       [2.05, 2.68],\n",
       "       [1.77, 2.94],\n",
       "       [1.72, 2.19],\n",
       "       [1.9 , 2.97],\n",
       "       [1.68, 2.33],\n",
       "       [1.5 , 3.25],\n",
       "       [1.66, 3.19],\n",
       "       [1.83, 2.69],\n",
       "       [1.53, 2.74],\n",
       "       [1.8 , 2.53],\n",
       "       [1.81, 2.98],\n",
       "       [1.64, 2.68],\n",
       "       [1.65, 2.43],\n",
       "       [1.5 , 2.64],\n",
       "       [3.99, 3.04],\n",
       "       [1.71, 3.29],\n",
       "       [3.84, 2.68],\n",
       "       [1.89, 3.56],\n",
       "       [3.98, 2.63],\n",
       "       [1.77, 3.  ],\n",
       "       [4.04, 2.65],\n",
       "       [3.59, 3.17],\n",
       "       [1.68, 3.39],\n",
       "       [2.02, 2.92],\n",
       "       [1.73, 3.54],\n",
       "       [1.73, 3.27],\n",
       "       [1.65, 2.99],\n",
       "       [1.75, 3.74],\n",
       "       [1.9 , 2.79],\n",
       "       [1.67, 2.9 ],\n",
       "       [1.73, 2.78],\n",
       "       [1.7 , 3.  ],\n",
       "       [1.97, 3.23],\n",
       "       [1.43, 3.67],\n",
       "       [0.94, 0.57],\n",
       "       [1.1 , 1.09],\n",
       "       [1.36, 1.41],\n",
       "       [1.25, 1.79],\n",
       "       [1.13, 3.1 ],\n",
       "       [1.45, 1.75],\n",
       "       [1.21, 2.65],\n",
       "       [1.01, 3.18],\n",
       "       [1.17, 2.  ],\n",
       "       [0.94, 1.3 ],\n",
       "       [1.19, 1.28],\n",
       "       [1.61, 1.02],\n",
       "       [1.51, 2.86],\n",
       "       [1.66, 1.84],\n",
       "       [1.67, 2.89],\n",
       "       [1.09, 2.14],\n",
       "       [1.88, 1.57],\n",
       "       [0.9 , 2.03],\n",
       "       [2.89, 1.32],\n",
       "       [0.99, 1.85],\n",
       "       [3.87, 2.55],\n",
       "       [0.92, 2.26],\n",
       "       [1.81, 2.53],\n",
       "       [1.13, 1.58],\n",
       "       [3.86, 1.59],\n",
       "       [0.89, 2.21],\n",
       "       [0.98, 1.94],\n",
       "       [1.61, 1.69],\n",
       "       [1.67, 1.61],\n",
       "       [2.06, 1.69],\n",
       "       [1.33, 1.59],\n",
       "       [1.83, 1.5 ],\n",
       "       [1.51, 1.25],\n",
       "       [1.53, 1.46],\n",
       "       [2.83, 2.25],\n",
       "       [1.99, 2.26],\n",
       "       [1.52, 2.27],\n",
       "       [2.12, 0.99],\n",
       "       [1.41, 2.5 ],\n",
       "       [1.07, 3.75],\n",
       "       [3.17, 2.99],\n",
       "       [2.08, 2.17],\n",
       "       [1.34, 1.36],\n",
       "       [2.45, 2.11],\n",
       "       [1.72, 1.64],\n",
       "       [1.73, 1.92],\n",
       "       [2.55, 1.84],\n",
       "       [1.73, 2.03],\n",
       "       [1.75, 1.76],\n",
       "       [1.29, 2.04],\n",
       "       [1.35, 2.92],\n",
       "       [3.74, 2.58],\n",
       "       [2.43, 2.27],\n",
       "       [2.68, 2.03],\n",
       "       [0.74, 2.01],\n",
       "       [1.39, 2.29],\n",
       "       [1.51, 2.17],\n",
       "       [1.47, 1.6 ],\n",
       "       [1.61, 2.09],\n",
       "       [3.43, 1.25],\n",
       "       [3.43, 1.64],\n",
       "       [2.4 , 2.79],\n",
       "       [2.05, 5.08],\n",
       "       [4.43, 2.13],\n",
       "       [5.8 , 2.65],\n",
       "       [4.31, 3.03],\n",
       "       [2.16, 2.65],\n",
       "       [1.53, 3.15],\n",
       "       [2.13, 2.24],\n",
       "       [1.63, 2.45],\n",
       "       [4.3 , 1.75],\n",
       "       [1.35, 1.25],\n",
       "       [2.99, 1.22],\n",
       "       [2.31, 1.09],\n",
       "       [3.55, 1.2 ],\n",
       "       [1.24, 0.58],\n",
       "       [2.46, 0.66],\n",
       "       [4.72, 0.47],\n",
       "       [5.51, 0.6 ],\n",
       "       [3.59, 0.48],\n",
       "       [2.96, 0.6 ],\n",
       "       [2.81, 0.5 ],\n",
       "       [2.56, 0.5 ],\n",
       "       [3.17, 0.52],\n",
       "       [4.95, 0.8 ],\n",
       "       [3.88, 0.78],\n",
       "       [3.57, 0.55],\n",
       "       [5.04, 0.34],\n",
       "       [4.61, 0.65],\n",
       "       [3.24, 0.76],\n",
       "       [3.9 , 1.39],\n",
       "       [3.12, 1.57],\n",
       "       [2.67, 1.36],\n",
       "       [1.9 , 1.28],\n",
       "       [3.3 , 0.83],\n",
       "       [1.29, 0.58],\n",
       "       [5.19, 0.63],\n",
       "       [4.12, 0.83],\n",
       "       [3.03, 0.58],\n",
       "       [1.68, 1.31],\n",
       "       [1.67, 1.1 ],\n",
       "       [3.83, 0.92],\n",
       "       [3.26, 0.56],\n",
       "       [3.27, 0.6 ],\n",
       "       [3.45, 0.7 ],\n",
       "       [2.76, 0.68],\n",
       "       [4.36, 0.47],\n",
       "       [3.7 , 0.92],\n",
       "       [3.37, 0.66],\n",
       "       [2.58, 0.84],\n",
       "       [4.6 , 0.96],\n",
       "       [3.03, 0.49],\n",
       "       [2.39, 0.51],\n",
       "       [2.51, 0.7 ],\n",
       "       [5.65, 0.61],\n",
       "       [3.91, 0.75],\n",
       "       [4.28, 0.69],\n",
       "       [2.59, 0.68],\n",
       "       [4.1 , 0.76]])"
      ]
     },
     "execution_count": 72,
     "metadata": {},
     "output_type": "execute_result"
    }
   ],
   "source": [
    "X"
   ]
  },
  {
   "cell_type": "code",
   "execution_count": 73,
   "id": "b1ba9bf3",
   "metadata": {},
   "outputs": [],
   "source": [
    "from sklearn.cluster import KMeans"
   ]
  },
  {
   "cell_type": "code",
   "execution_count": 74,
   "id": "6e3335c7",
   "metadata": {},
   "outputs": [],
   "source": [
    "wcss=[]"
   ]
  },
  {
   "cell_type": "code",
   "execution_count": 75,
   "id": "1ecde3b9",
   "metadata": {},
   "outputs": [
    {
     "name": "stderr",
     "output_type": "stream",
     "text": [
      "C:\\Users\\admin\\anaconda3\\lib\\site-packages\\sklearn\\cluster\\_kmeans.py:881: UserWarning: KMeans is known to have a memory leak on Windows with MKL, when there are less chunks than available threads. You can avoid it by setting the environment variable OMP_NUM_THREADS=1.\n",
      "  warnings.warn(\n"
     ]
    },
    {
     "name": "stdout",
     "output_type": "stream",
     "text": [
      "397.49493146067425\n",
      "177.21477997126442\n",
      "120.3738820772168\n",
      "86.89729793259153\n",
      "64.41469730623047\n",
      "52.232536608187154\n",
      "45.69936045906213\n",
      "40.25125657747073\n",
      "35.05905581388108\n",
      "31.619981907821437\n"
     ]
    },
    {
     "data": {
      "image/png": "[encoded data removed]",
      "text/plain": [
       "<Figure size 432x288 with 1 Axes>"
      ]
     },
     "metadata": {
      "needs_background": "light"
     },
     "output_type": "display_data"
    }
   ],
   "source": [
    "for i in range(1,11):\n",
    "    kmeans=KMeans(n_clusters=i,init='k-means++',random_state=42)\n",
    "    kmeans.fit(X)\n",
    "    wcss.append(kmeans.inertia_)\n",
    "    print(kmeans.inertia_)\n",
    "plt.plot(range(1,11),wcss)\n",
    "plt.title('The elbow method')\n",
    "plt.xlabel('No: of clusters')\n",
    "plt.ylabel('WCSS')\n",
    "plt.show()"
   ]
  },
  {
   "cell_type": "code",
   "execution_count": 78,
   "id": "9fd734a5",
   "metadata": {},
   "outputs": [
    {
     "data": {
      "text/plain": [
       "numpy.ndarray"
      ]
     },
     "execution_count": 78,
     "metadata": {},
     "output_type": "execute_result"
    }
   ],
   "source": [
    "kmeans=KMeans(n_clusters=5,init='k-means++',random_state=42)\n",
    "y_kmeans=kmeans.fit_predict(X)\n",
    "type(X) "
   ]
  },
  {
   "cell_type": "code",
   "execution_count": 79,
   "id": "21ccd970",
   "metadata": {},
   "outputs": [
    {
     "data": {
      "image/png": "[encoded data removed]",
      "text/plain": [
       "<Figure size 432x288 with 1 Axes>"
      ]
     },
     "metadata": {
      "needs_background": "light"
     },
     "output_type": "display_data"
    }
   ],
   "source": [
    "plt.scatter(X[y_kmeans==0,0],X[y_kmeans==0,1],s=100, c='red',label='Cluster 1')\n",
    "plt.scatter(X[y_kmeans==1,0],X[y_kmeans==1,1],s=100,  c='blue',label='Cluster 2')\n",
    "plt.scatter(X[y_kmeans==2,0],X[y_kmeans==2,1],s=100,  c='green',label='Cluster 3')\n",
    "plt.scatter(X[y_kmeans==3,0],X[y_kmeans==3,1],s=100, c='cyan',label='Cluster 4')\n",
    "plt.scatter(X[y_kmeans==4,0],X[y_kmeans==4,1],s=100, c='magenta',label='Cluster 5')\n",
    "plt.title('Cluster of wine dataset')\n",
    "plt.xlabel('Wine dataset')\n",
    "plt.legend()\n",
    "plt.show()"
   ]
  },
  {
   "cell_type": "code",
   "execution_count": 98,
   "id": "92c50a3f",
   "metadata": {},
   "outputs": [],
   "source": [
    "# Agglomerative HC"
   ]
  },
  {
   "cell_type": "code",
   "execution_count": 80,
   "id": "ab2f0e16",
   "metadata": {},
   "outputs": [],
   "source": [
    "import scipy.cluster.hierarchy as sch"
   ]
  },
  {
   "cell_type": "code",
   "execution_count": 81,
   "id": "0e60bfd0",
   "metadata": {},
   "outputs": [
    {
     "data": {
      "image/png": "[encoded data removed]",
      "text/plain": [
       "<Figure size 432x288 with 1 Axes>"
      ]
     },
     "metadata": {
      "needs_background": "light"
     },
     "output_type": "display_data"
    }
   ],
   "source": [
    "dendrogram=sch.dendrogram(sch.linkage(X,method='ward'))\n",
    "plt.title('Dendrogram')\n",
    "plt.xlabel('wine dataset')\n",
    "plt.ylabel('Euclidean distance')\n",
    "plt.show()"
   ]
  },
  {
   "cell_type": "code",
   "execution_count": 82,
   "id": "8cebc79e",
   "metadata": {},
   "outputs": [],
   "source": [
    "from sklearn.cluster import AgglomerativeClustering"
   ]
  },
  {
   "cell_type": "code",
   "execution_count": 83,
   "id": "8b77a424",
   "metadata": {},
   "outputs": [],
   "source": [
    "hc=AgglomerativeClustering(n_clusters=3,affinity='euclidean',linkage='ward')\n",
    "yhc=hc.fit_predict(X)"
   ]
  },
  {
   "cell_type": "code",
   "execution_count": 84,
   "id": "c90b3e0f",
   "metadata": {},
   "outputs": [
    {
     "data": {
      "text/plain": [
       "array([1, 1, 1, 1, 1, 1, 1, 1, 1, 1, 1, 2, 1, 1, 1, 1, 1, 1, 1, 0, 1, 0,\n",
       "       1, 2, 1, 1, 1, 2, 1, 2, 1, 1, 1, 1, 1, 1, 1, 2, 1, 0, 1, 0, 1, 0,\n",
       "       1, 0, 0, 1, 1, 1, 1, 1, 1, 1, 1, 1, 1, 1, 1, 2, 2, 2, 2, 1, 2, 1,\n",
       "       1, 2, 2, 2, 2, 1, 2, 1, 2, 2, 2, 0, 2, 0, 2, 1, 2, 0, 2, 2, 2, 2,\n",
       "       2, 2, 2, 2, 2, 1, 1, 2, 0, 2, 1, 0, 1, 2, 1, 2, 2, 1, 2, 2, 2, 1,\n",
       "       0, 1, 1, 2, 2, 2, 2, 2, 0, 0, 1, 1, 0, 0, 0, 1, 1, 1, 2, 0, 2, 0,\n",
       "       0, 0, 2, 0, 0, 0, 0, 0, 0, 0, 0, 0, 0, 0, 0, 0, 0, 0, 0, 0, 2, 0,\n",
       "       2, 0, 0, 0, 2, 2, 0, 0, 0, 0, 0, 0, 0, 0, 0, 0, 0, 0, 0, 0, 0, 0,\n",
       "       0, 0], dtype=int64)"
      ]
     },
     "execution_count": 84,
     "metadata": {},
     "output_type": "execute_result"
    }
   ],
   "source": [
    "yhc"
   ]
  },
  {
   "cell_type": "code",
   "execution_count": 85,
   "id": "3f5215d5",
   "metadata": {},
   "outputs": [
    {
     "data": {
      "image/png": "[encoded data removed]",
      "text/plain": [
       "<Figure size 432x288 with 1 Axes>"
      ]
     },
     "metadata": {
      "needs_background": "light"
     },
     "output_type": "display_data"
    }
   ],
   "source": [
    "plt.scatter(X[y_kmeans==0,0],X[y_kmeans==0,1],s=100, c='red',label='Cluster 1')\n",
    "plt.scatter(X[y_kmeans==1,0],X[y_kmeans==1,1],s=100,  c='blue',label='Cluster 2')\n",
    "plt.scatter(X[y_kmeans==2,0],X[y_kmeans==2,1],s=100,  c='green',label='Cluster 3')\n",
    "plt.scatter(X[y_kmeans==3,0],X[y_kmeans==3,1],s=100, c='cyan',label='Cluster 4')\n",
    "plt.scatter(X[y_kmeans==4,0],X[y_kmeans==4,1],s=100, c='magenta',label='Cluster 5')\n",
    "plt.title('Cluster of wine dataset')\n",
    "plt.xlabel('Wine dataset')\n",
    "plt.legend()\n",
    "plt.show()"
   ]
  },
  {
   "cell_type": "markdown",
   "id": "b46f4757",
   "metadata": {},
   "source": [
    "# 3.Find the optimum number of clusters in each model and create the model with the optimum number of clusters."
   ]
  },
  {
   "cell_type": "markdown",
   "id": "9dd6ee2a",
   "metadata": {},
   "source": [
    "The optimum number of clusters in the models are 5"
   ]
  },
  {
   "cell_type": "code",
   "execution_count": null,
   "id": "2f6bea20",
   "metadata": {},
   "outputs": [],
   "source": [
    "#standard scaling"
   ]
  },
  {
   "cell_type": "code",
   "execution_count": 86,
   "id": "731c8516",
   "metadata": {},
   "outputs": [],
   "source": [
    "from sklearn.preprocessing import StandardScaler"
   ]
  },
  {
   "cell_type": "code",
   "execution_count": 87,
   "id": "0aec5223",
   "metadata": {},
   "outputs": [],
   "source": [
    "sc=StandardScaler()"
   ]
  },
  {
   "cell_type": "code",
   "execution_count": null,
   "id": "212ab2e8",
   "metadata": {},
   "outputs": [],
   "source": [
    "#modeling"
   ]
  },
  {
   "cell_type": "code",
   "execution_count": 88,
   "id": "b608e1cb",
   "metadata": {},
   "outputs": [
    {
     "name": "stdout",
     "output_type": "stream",
     "text": [
      "[1 1 1 1 1 1 1 1 1 1 1 1 1 1 1 1 1 1 1 3 1 3 1 1 1 1 1 2 1 2 1 1 1 1 1 1 1\n",
      " 1 1 3 1 3 1 3 1 3 3 1 1 1 1 1 1 1 1 1 1 1 1 2 2 2 2 1 2 1 1 2 2 2 2 1 2 1\n",
      " 2 2 2 0 2 3 2 1 2 0 2 2 2 2 2 2 2 2 2 3 2 2 2 1 1 3 2 2 2 2 2 2 2 2 2 1 3\n",
      " 1 2 2 2 2 2 2 0 0 1 1 3 3 3 1 1 2 1 3 2 0 0 0 2 0 4 4 0 0 0 0 0 4 0 0 4 4\n",
      " 0 0 0 0 2 0 2 4 4 0 2 2 0 0 0 0 0 4 0 0 0 4 0 0 0 4 0 4 0 4]\n"
     ]
    }
   ],
   "source": [
    "from sklearn.pipeline import make_pipeline\n",
    "pipe=make_pipeline(sc,kmeans)\n",
    "pipe.fit(X)\n",
    "label_sc=pipe.predict(X)\n",
    "print(label_sc)"
   ]
  },
  {
   "cell_type": "code",
   "execution_count": 89,
   "id": "f84bc3e4",
   "metadata": {},
   "outputs": [],
   "source": [
    "proline=data['Proline']\n",
    "df=pd.DataFrame({'label':label_sc,'Proline':proline})"
   ]
  },
  {
   "cell_type": "code",
   "execution_count": 90,
   "id": "6ff8b559",
   "metadata": {},
   "outputs": [
    {
     "data": {
      "text/html": [
       "<div>\n",
       "<style scoped>\n",
       "    .dataframe tbody tr th:only-of-type {\n",
       "        vertical-align: middle;\n",
       "    }\n",
       "\n",
       "    .dataframe tbody tr th {\n",
       "        vertical-align: top;\n",
       "    }\n",
       "\n",
       "    .dataframe thead th {\n",
       "        text-align: right;\n",
       "    }\n",
       "</style>\n",
       "<table border=\"1\" class=\"dataframe\">\n",
       "  <thead>\n",
       "    <tr style=\"text-align: right;\">\n",
       "      <th></th>\n",
       "      <th>label</th>\n",
       "      <th>Proline</th>\n",
       "    </tr>\n",
       "  </thead>\n",
       "  <tbody>\n",
       "    <tr>\n",
       "      <th>0</th>\n",
       "      <td>1</td>\n",
       "      <td>1065</td>\n",
       "    </tr>\n",
       "    <tr>\n",
       "      <th>1</th>\n",
       "      <td>1</td>\n",
       "      <td>1050</td>\n",
       "    </tr>\n",
       "    <tr>\n",
       "      <th>2</th>\n",
       "      <td>1</td>\n",
       "      <td>1185</td>\n",
       "    </tr>\n",
       "    <tr>\n",
       "      <th>3</th>\n",
       "      <td>1</td>\n",
       "      <td>1480</td>\n",
       "    </tr>\n",
       "    <tr>\n",
       "      <th>4</th>\n",
       "      <td>1</td>\n",
       "      <td>735</td>\n",
       "    </tr>\n",
       "    <tr>\n",
       "      <th>...</th>\n",
       "      <td>...</td>\n",
       "      <td>...</td>\n",
       "    </tr>\n",
       "    <tr>\n",
       "      <th>173</th>\n",
       "      <td>4</td>\n",
       "      <td>740</td>\n",
       "    </tr>\n",
       "    <tr>\n",
       "      <th>174</th>\n",
       "      <td>0</td>\n",
       "      <td>750</td>\n",
       "    </tr>\n",
       "    <tr>\n",
       "      <th>175</th>\n",
       "      <td>4</td>\n",
       "      <td>835</td>\n",
       "    </tr>\n",
       "    <tr>\n",
       "      <th>176</th>\n",
       "      <td>0</td>\n",
       "      <td>840</td>\n",
       "    </tr>\n",
       "    <tr>\n",
       "      <th>177</th>\n",
       "      <td>4</td>\n",
       "      <td>560</td>\n",
       "    </tr>\n",
       "  </tbody>\n",
       "</table>\n",
       "<p>178 rows × 2 columns</p>\n",
       "</div>"
      ],
      "text/plain": [
       "     label  Proline\n",
       "0        1     1065\n",
       "1        1     1050\n",
       "2        1     1185\n",
       "3        1     1480\n",
       "4        1      735\n",
       "..     ...      ...\n",
       "173      4      740\n",
       "174      0      750\n",
       "175      4      835\n",
       "176      0      840\n",
       "177      4      560\n",
       "\n",
       "[178 rows x 2 columns]"
      ]
     },
     "execution_count": 90,
     "metadata": {},
     "output_type": "execute_result"
    }
   ],
   "source": [
    "df"
   ]
  },
  {
   "cell_type": "code",
   "execution_count": 91,
   "id": "c0d9844c",
   "metadata": {},
   "outputs": [
    {
     "data": {
      "text/html": [
       "<div>\n",
       "<style scoped>\n",
       "    .dataframe tbody tr th:only-of-type {\n",
       "        vertical-align: middle;\n",
       "    }\n",
       "\n",
       "    .dataframe tbody tr th {\n",
       "        vertical-align: top;\n",
       "    }\n",
       "\n",
       "    .dataframe thead th {\n",
       "        text-align: right;\n",
       "    }\n",
       "</style>\n",
       "<table border=\"1\" class=\"dataframe\">\n",
       "  <thead>\n",
       "    <tr style=\"text-align: right;\">\n",
       "      <th>Proline</th>\n",
       "      <th>278</th>\n",
       "      <th>290</th>\n",
       "      <th>312</th>\n",
       "      <th>315</th>\n",
       "      <th>325</th>\n",
       "      <th>342</th>\n",
       "      <th>345</th>\n",
       "      <th>352</th>\n",
       "      <th>355</th>\n",
       "      <th>365</th>\n",
       "      <th>...</th>\n",
       "      <th>1295</th>\n",
       "      <th>1310</th>\n",
       "      <th>1320</th>\n",
       "      <th>1375</th>\n",
       "      <th>1450</th>\n",
       "      <th>1480</th>\n",
       "      <th>1510</th>\n",
       "      <th>1515</th>\n",
       "      <th>1547</th>\n",
       "      <th>1680</th>\n",
       "    </tr>\n",
       "    <tr>\n",
       "      <th>label</th>\n",
       "      <th></th>\n",
       "      <th></th>\n",
       "      <th></th>\n",
       "      <th></th>\n",
       "      <th></th>\n",
       "      <th></th>\n",
       "      <th></th>\n",
       "      <th></th>\n",
       "      <th></th>\n",
       "      <th></th>\n",
       "      <th></th>\n",
       "      <th></th>\n",
       "      <th></th>\n",
       "      <th></th>\n",
       "      <th></th>\n",
       "      <th></th>\n",
       "      <th></th>\n",
       "      <th></th>\n",
       "      <th></th>\n",
       "      <th></th>\n",
       "      <th></th>\n",
       "    </tr>\n",
       "  </thead>\n",
       "  <tbody>\n",
       "    <tr>\n",
       "      <th>0</th>\n",
       "      <td>0</td>\n",
       "      <td>0</td>\n",
       "      <td>0</td>\n",
       "      <td>0</td>\n",
       "      <td>0</td>\n",
       "      <td>0</td>\n",
       "      <td>0</td>\n",
       "      <td>0</td>\n",
       "      <td>0</td>\n",
       "      <td>0</td>\n",
       "      <td>...</td>\n",
       "      <td>0</td>\n",
       "      <td>0</td>\n",
       "      <td>0</td>\n",
       "      <td>0</td>\n",
       "      <td>0</td>\n",
       "      <td>0</td>\n",
       "      <td>0</td>\n",
       "      <td>0</td>\n",
       "      <td>0</td>\n",
       "      <td>0</td>\n",
       "    </tr>\n",
       "    <tr>\n",
       "      <th>1</th>\n",
       "      <td>0</td>\n",
       "      <td>0</td>\n",
       "      <td>0</td>\n",
       "      <td>0</td>\n",
       "      <td>1</td>\n",
       "      <td>1</td>\n",
       "      <td>0</td>\n",
       "      <td>1</td>\n",
       "      <td>0</td>\n",
       "      <td>0</td>\n",
       "      <td>...</td>\n",
       "      <td>1</td>\n",
       "      <td>1</td>\n",
       "      <td>1</td>\n",
       "      <td>1</td>\n",
       "      <td>1</td>\n",
       "      <td>1</td>\n",
       "      <td>1</td>\n",
       "      <td>1</td>\n",
       "      <td>1</td>\n",
       "      <td>1</td>\n",
       "    </tr>\n",
       "    <tr>\n",
       "      <th>2</th>\n",
       "      <td>1</td>\n",
       "      <td>0</td>\n",
       "      <td>1</td>\n",
       "      <td>1</td>\n",
       "      <td>0</td>\n",
       "      <td>0</td>\n",
       "      <td>2</td>\n",
       "      <td>0</td>\n",
       "      <td>1</td>\n",
       "      <td>0</td>\n",
       "      <td>...</td>\n",
       "      <td>0</td>\n",
       "      <td>0</td>\n",
       "      <td>0</td>\n",
       "      <td>0</td>\n",
       "      <td>0</td>\n",
       "      <td>0</td>\n",
       "      <td>0</td>\n",
       "      <td>0</td>\n",
       "      <td>0</td>\n",
       "      <td>0</td>\n",
       "    </tr>\n",
       "    <tr>\n",
       "      <th>3</th>\n",
       "      <td>0</td>\n",
       "      <td>1</td>\n",
       "      <td>0</td>\n",
       "      <td>0</td>\n",
       "      <td>0</td>\n",
       "      <td>0</td>\n",
       "      <td>0</td>\n",
       "      <td>0</td>\n",
       "      <td>0</td>\n",
       "      <td>1</td>\n",
       "      <td>...</td>\n",
       "      <td>0</td>\n",
       "      <td>0</td>\n",
       "      <td>0</td>\n",
       "      <td>0</td>\n",
       "      <td>0</td>\n",
       "      <td>0</td>\n",
       "      <td>0</td>\n",
       "      <td>0</td>\n",
       "      <td>0</td>\n",
       "      <td>0</td>\n",
       "    </tr>\n",
       "    <tr>\n",
       "      <th>4</th>\n",
       "      <td>0</td>\n",
       "      <td>0</td>\n",
       "      <td>0</td>\n",
       "      <td>0</td>\n",
       "      <td>0</td>\n",
       "      <td>0</td>\n",
       "      <td>0</td>\n",
       "      <td>0</td>\n",
       "      <td>0</td>\n",
       "      <td>0</td>\n",
       "      <td>...</td>\n",
       "      <td>0</td>\n",
       "      <td>0</td>\n",
       "      <td>0</td>\n",
       "      <td>0</td>\n",
       "      <td>0</td>\n",
       "      <td>0</td>\n",
       "      <td>0</td>\n",
       "      <td>0</td>\n",
       "      <td>0</td>\n",
       "      <td>0</td>\n",
       "    </tr>\n",
       "  </tbody>\n",
       "</table>\n",
       "<p>5 rows × 121 columns</p>\n",
       "</div>"
      ],
      "text/plain": [
       "Proline  278   290   312   315   325   342   345   352   355   365   ...  \\\n",
       "label                                                                ...   \n",
       "0           0     0     0     0     0     0     0     0     0     0  ...   \n",
       "1           0     0     0     0     1     1     0     1     0     0  ...   \n",
       "2           1     0     1     1     0     0     2     0     1     0  ...   \n",
       "3           0     1     0     0     0     0     0     0     0     1  ...   \n",
       "4           0     0     0     0     0     0     0     0     0     0  ...   \n",
       "\n",
       "Proline  1295  1310  1320  1375  1450  1480  1510  1515  1547  1680  \n",
       "label                                                                \n",
       "0           0     0     0     0     0     0     0     0     0     0  \n",
       "1           1     1     1     1     1     1     1     1     1     1  \n",
       "2           0     0     0     0     0     0     0     0     0     0  \n",
       "3           0     0     0     0     0     0     0     0     0     0  \n",
       "4           0     0     0     0     0     0     0     0     0     0  \n",
       "\n",
       "[5 rows x 121 columns]"
      ]
     },
     "execution_count": 91,
     "metadata": {},
     "output_type": "execute_result"
    }
   ],
   "source": [
    "pd.crosstab(df['label'],df['Proline'])"
   ]
  },
  {
   "cell_type": "code",
   "execution_count": 92,
   "id": "b7e3ccff",
   "metadata": {},
   "outputs": [
    {
     "data": {
      "image/png": "[encoded data removed]",
      "text/plain": [
       "<Figure size 720x504 with 1 Axes>"
      ]
     },
     "metadata": {
      "needs_background": "light"
     },
     "output_type": "display_data"
    }
   ],
   "source": [
    "from scipy.cluster.hierarchy import dendrogram,linkage\n",
    "linked=linkage(X,method='ward')\n",
    "plt.figure(figsize=(10,7))\n",
    "dendrogram(linked,orientation='top',distance_sort='ascending',show_leaf_counts=True)\n",
    "plt.hlines(0.5,0,5000,colors='r',linestyle='dashed')\n",
    "plt.show()"
   ]
  },
  {
   "cell_type": "code",
   "execution_count": 93,
   "id": "bbfebc56",
   "metadata": {},
   "outputs": [],
   "source": [
    "cluster=AgglomerativeClustering(n_clusters=5,affinity='euclidean',linkage='ward')\n",
    "labels=cluster.fit_predict(X)"
   ]
  },
  {
   "cell_type": "code",
   "execution_count": 94,
   "id": "821f0f7e",
   "metadata": {},
   "outputs": [
    {
     "data": {
      "text/plain": [
       "array([0, 0, 0, 0, 0, 0, 0, 0, 0, 0, 0, 2, 0, 0, 0, 0, 0, 0, 0, 3, 0, 3,\n",
       "       0, 2, 0, 0, 0, 2, 0, 2, 0, 0, 0, 0, 0, 0, 0, 2, 0, 3, 0, 3, 0, 3,\n",
       "       0, 3, 3, 0, 0, 0, 0, 0, 0, 0, 0, 0, 0, 0, 0, 2, 2, 2, 2, 0, 2, 0,\n",
       "       0, 2, 2, 2, 2, 0, 2, 0, 2, 2, 2, 1, 2, 3, 2, 0, 2, 1, 2, 2, 2, 2,\n",
       "       2, 2, 2, 2, 2, 0, 0, 2, 1, 2, 0, 3, 0, 2, 0, 2, 2, 0, 2, 2, 2, 0,\n",
       "       3, 0, 0, 2, 2, 2, 2, 2, 1, 1, 0, 0, 3, 3, 3, 0, 0, 0, 2, 3, 2, 1,\n",
       "       1, 1, 2, 1, 4, 4, 1, 1, 1, 1, 1, 4, 4, 1, 4, 4, 1, 1, 1, 1, 2, 1,\n",
       "       2, 4, 4, 1, 2, 2, 4, 1, 1, 1, 1, 4, 4, 1, 1, 4, 1, 1, 1, 4, 4, 4,\n",
       "       1, 4], dtype=int64)"
      ]
     },
     "execution_count": 94,
     "metadata": {},
     "output_type": "execute_result"
    }
   ],
   "source": [
    "labels"
   ]
  },
  {
   "cell_type": "code",
   "execution_count": 95,
   "id": "b7509ebe",
   "metadata": {},
   "outputs": [],
   "source": [
    "df=pd.DataFrame({'labels':labels,'Proline':data['Proline']})"
   ]
  },
  {
   "cell_type": "code",
   "execution_count": 96,
   "id": "c368729b",
   "metadata": {},
   "outputs": [
    {
     "data": {
      "text/html": [
       "<div>\n",
       "<style scoped>\n",
       "    .dataframe tbody tr th:only-of-type {\n",
       "        vertical-align: middle;\n",
       "    }\n",
       "\n",
       "    .dataframe tbody tr th {\n",
       "        vertical-align: top;\n",
       "    }\n",
       "\n",
       "    .dataframe thead th {\n",
       "        text-align: right;\n",
       "    }\n",
       "</style>\n",
       "<table border=\"1\" class=\"dataframe\">\n",
       "  <thead>\n",
       "    <tr style=\"text-align: right;\">\n",
       "      <th></th>\n",
       "      <th>labels</th>\n",
       "      <th>Proline</th>\n",
       "    </tr>\n",
       "  </thead>\n",
       "  <tbody>\n",
       "    <tr>\n",
       "      <th>0</th>\n",
       "      <td>0</td>\n",
       "      <td>1065</td>\n",
       "    </tr>\n",
       "    <tr>\n",
       "      <th>1</th>\n",
       "      <td>0</td>\n",
       "      <td>1050</td>\n",
       "    </tr>\n",
       "    <tr>\n",
       "      <th>2</th>\n",
       "      <td>0</td>\n",
       "      <td>1185</td>\n",
       "    </tr>\n",
       "    <tr>\n",
       "      <th>3</th>\n",
       "      <td>0</td>\n",
       "      <td>1480</td>\n",
       "    </tr>\n",
       "    <tr>\n",
       "      <th>4</th>\n",
       "      <td>0</td>\n",
       "      <td>735</td>\n",
       "    </tr>\n",
       "    <tr>\n",
       "      <th>...</th>\n",
       "      <td>...</td>\n",
       "      <td>...</td>\n",
       "    </tr>\n",
       "    <tr>\n",
       "      <th>173</th>\n",
       "      <td>4</td>\n",
       "      <td>740</td>\n",
       "    </tr>\n",
       "    <tr>\n",
       "      <th>174</th>\n",
       "      <td>4</td>\n",
       "      <td>750</td>\n",
       "    </tr>\n",
       "    <tr>\n",
       "      <th>175</th>\n",
       "      <td>4</td>\n",
       "      <td>835</td>\n",
       "    </tr>\n",
       "    <tr>\n",
       "      <th>176</th>\n",
       "      <td>1</td>\n",
       "      <td>840</td>\n",
       "    </tr>\n",
       "    <tr>\n",
       "      <th>177</th>\n",
       "      <td>4</td>\n",
       "      <td>560</td>\n",
       "    </tr>\n",
       "  </tbody>\n",
       "</table>\n",
       "<p>178 rows × 2 columns</p>\n",
       "</div>"
      ],
      "text/plain": [
       "     labels  Proline\n",
       "0         0     1065\n",
       "1         0     1050\n",
       "2         0     1185\n",
       "3         0     1480\n",
       "4         0      735\n",
       "..      ...      ...\n",
       "173       4      740\n",
       "174       4      750\n",
       "175       4      835\n",
       "176       1      840\n",
       "177       4      560\n",
       "\n",
       "[178 rows x 2 columns]"
      ]
     },
     "execution_count": 96,
     "metadata": {},
     "output_type": "execute_result"
    }
   ],
   "source": [
    "df"
   ]
  },
  {
   "cell_type": "code",
   "execution_count": 97,
   "id": "cd8ca223",
   "metadata": {},
   "outputs": [
    {
     "data": {
      "text/html": [
       "<div>\n",
       "<style scoped>\n",
       "    .dataframe tbody tr th:only-of-type {\n",
       "        vertical-align: middle;\n",
       "    }\n",
       "\n",
       "    .dataframe tbody tr th {\n",
       "        vertical-align: top;\n",
       "    }\n",
       "\n",
       "    .dataframe thead th {\n",
       "        text-align: right;\n",
       "    }\n",
       "</style>\n",
       "<table border=\"1\" class=\"dataframe\">\n",
       "  <thead>\n",
       "    <tr style=\"text-align: right;\">\n",
       "      <th>Proline</th>\n",
       "      <th>278</th>\n",
       "      <th>290</th>\n",
       "      <th>312</th>\n",
       "      <th>315</th>\n",
       "      <th>325</th>\n",
       "      <th>342</th>\n",
       "      <th>345</th>\n",
       "      <th>352</th>\n",
       "      <th>355</th>\n",
       "      <th>365</th>\n",
       "      <th>...</th>\n",
       "      <th>1295</th>\n",
       "      <th>1310</th>\n",
       "      <th>1320</th>\n",
       "      <th>1375</th>\n",
       "      <th>1450</th>\n",
       "      <th>1480</th>\n",
       "      <th>1510</th>\n",
       "      <th>1515</th>\n",
       "      <th>1547</th>\n",
       "      <th>1680</th>\n",
       "    </tr>\n",
       "    <tr>\n",
       "      <th>labels</th>\n",
       "      <th></th>\n",
       "      <th></th>\n",
       "      <th></th>\n",
       "      <th></th>\n",
       "      <th></th>\n",
       "      <th></th>\n",
       "      <th></th>\n",
       "      <th></th>\n",
       "      <th></th>\n",
       "      <th></th>\n",
       "      <th></th>\n",
       "      <th></th>\n",
       "      <th></th>\n",
       "      <th></th>\n",
       "      <th></th>\n",
       "      <th></th>\n",
       "      <th></th>\n",
       "      <th></th>\n",
       "      <th></th>\n",
       "      <th></th>\n",
       "      <th></th>\n",
       "    </tr>\n",
       "  </thead>\n",
       "  <tbody>\n",
       "    <tr>\n",
       "      <th>0</th>\n",
       "      <td>0</td>\n",
       "      <td>1</td>\n",
       "      <td>0</td>\n",
       "      <td>1</td>\n",
       "      <td>1</td>\n",
       "      <td>0</td>\n",
       "      <td>1</td>\n",
       "      <td>1</td>\n",
       "      <td>0</td>\n",
       "      <td>0</td>\n",
       "      <td>...</td>\n",
       "      <td>1</td>\n",
       "      <td>1</td>\n",
       "      <td>1</td>\n",
       "      <td>1</td>\n",
       "      <td>1</td>\n",
       "      <td>1</td>\n",
       "      <td>1</td>\n",
       "      <td>1</td>\n",
       "      <td>1</td>\n",
       "      <td>1</td>\n",
       "    </tr>\n",
       "    <tr>\n",
       "      <th>1</th>\n",
       "      <td>0</td>\n",
       "      <td>0</td>\n",
       "      <td>0</td>\n",
       "      <td>0</td>\n",
       "      <td>0</td>\n",
       "      <td>0</td>\n",
       "      <td>0</td>\n",
       "      <td>0</td>\n",
       "      <td>0</td>\n",
       "      <td>0</td>\n",
       "      <td>...</td>\n",
       "      <td>0</td>\n",
       "      <td>0</td>\n",
       "      <td>0</td>\n",
       "      <td>0</td>\n",
       "      <td>0</td>\n",
       "      <td>0</td>\n",
       "      <td>0</td>\n",
       "      <td>0</td>\n",
       "      <td>0</td>\n",
       "      <td>0</td>\n",
       "    </tr>\n",
       "    <tr>\n",
       "      <th>2</th>\n",
       "      <td>1</td>\n",
       "      <td>0</td>\n",
       "      <td>1</td>\n",
       "      <td>0</td>\n",
       "      <td>0</td>\n",
       "      <td>1</td>\n",
       "      <td>1</td>\n",
       "      <td>0</td>\n",
       "      <td>1</td>\n",
       "      <td>0</td>\n",
       "      <td>...</td>\n",
       "      <td>0</td>\n",
       "      <td>0</td>\n",
       "      <td>0</td>\n",
       "      <td>0</td>\n",
       "      <td>0</td>\n",
       "      <td>0</td>\n",
       "      <td>0</td>\n",
       "      <td>0</td>\n",
       "      <td>0</td>\n",
       "      <td>0</td>\n",
       "    </tr>\n",
       "    <tr>\n",
       "      <th>3</th>\n",
       "      <td>0</td>\n",
       "      <td>0</td>\n",
       "      <td>0</td>\n",
       "      <td>0</td>\n",
       "      <td>0</td>\n",
       "      <td>0</td>\n",
       "      <td>0</td>\n",
       "      <td>0</td>\n",
       "      <td>0</td>\n",
       "      <td>1</td>\n",
       "      <td>...</td>\n",
       "      <td>0</td>\n",
       "      <td>0</td>\n",
       "      <td>0</td>\n",
       "      <td>0</td>\n",
       "      <td>0</td>\n",
       "      <td>0</td>\n",
       "      <td>0</td>\n",
       "      <td>0</td>\n",
       "      <td>0</td>\n",
       "      <td>0</td>\n",
       "    </tr>\n",
       "    <tr>\n",
       "      <th>4</th>\n",
       "      <td>0</td>\n",
       "      <td>0</td>\n",
       "      <td>0</td>\n",
       "      <td>0</td>\n",
       "      <td>0</td>\n",
       "      <td>0</td>\n",
       "      <td>0</td>\n",
       "      <td>0</td>\n",
       "      <td>0</td>\n",
       "      <td>0</td>\n",
       "      <td>...</td>\n",
       "      <td>0</td>\n",
       "      <td>0</td>\n",
       "      <td>0</td>\n",
       "      <td>0</td>\n",
       "      <td>0</td>\n",
       "      <td>0</td>\n",
       "      <td>0</td>\n",
       "      <td>0</td>\n",
       "      <td>0</td>\n",
       "      <td>0</td>\n",
       "    </tr>\n",
       "  </tbody>\n",
       "</table>\n",
       "<p>5 rows × 121 columns</p>\n",
       "</div>"
      ],
      "text/plain": [
       "Proline  278   290   312   315   325   342   345   352   355   365   ...  \\\n",
       "labels                                                               ...   \n",
       "0           0     1     0     1     1     0     1     1     0     0  ...   \n",
       "1           0     0     0     0     0     0     0     0     0     0  ...   \n",
       "2           1     0     1     0     0     1     1     0     1     0  ...   \n",
       "3           0     0     0     0     0     0     0     0     0     1  ...   \n",
       "4           0     0     0     0     0     0     0     0     0     0  ...   \n",
       "\n",
       "Proline  1295  1310  1320  1375  1450  1480  1510  1515  1547  1680  \n",
       "labels                                                               \n",
       "0           1     1     1     1     1     1     1     1     1     1  \n",
       "1           0     0     0     0     0     0     0     0     0     0  \n",
       "2           0     0     0     0     0     0     0     0     0     0  \n",
       "3           0     0     0     0     0     0     0     0     0     0  \n",
       "4           0     0     0     0     0     0     0     0     0     0  \n",
       "\n",
       "[5 rows x 121 columns]"
      ]
     },
     "execution_count": 97,
     "metadata": {},
     "output_type": "execute_result"
    }
   ],
   "source": [
    "pd.crosstab(df['labels'],df['Proline'])"
   ]
  },
  {
   "cell_type": "markdown",
   "id": "e6fffcab",
   "metadata": {},
   "source": [
    "Unsupervised learning using KMeans and Agglomerative HC has been carried out in the given dataset."
   ]
  },
  {
   "cell_type": "code",
   "execution_count": null,
   "id": "b6d962b3",
   "metadata": {},
   "outputs": [],
   "source": []
  }
 ],
 "metadata": {
  "kernelspec": {
   "display_name": "Python 3",
   "language": "python",
   "name": "python3"
  },
  "language_info": {
   "codemirror_mode": {
    "name": "ipython",
    "version": 3
   },
   "file_extension": ".py",
   "mimetype": "text/x-python",
   "name": "python",
   "nbconvert_exporter": "python",
   "pygments_lexer": "ipython3",
   "version": "3.8.8"
  }
 },
 "nbformat": 4,
 "nbformat_minor": 5
}
